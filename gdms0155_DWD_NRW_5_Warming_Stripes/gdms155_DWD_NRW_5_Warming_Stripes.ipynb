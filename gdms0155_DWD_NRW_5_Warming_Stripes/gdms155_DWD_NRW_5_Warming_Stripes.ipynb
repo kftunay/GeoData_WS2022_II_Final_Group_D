{
 "cells": [
  {
   "cell_type": "code",
   "execution_count": 1,
   "id": "5a1d045f-5022-4cda-9835-bf3f81b6ea15",
   "metadata": {},
   "outputs": [],
   "source": [
    "import pandas as pd\n",
    "import os"
   ]
  },
  {
   "cell_type": "code",
   "execution_count": null,
   "id": "839c25af-f502-47a7-9c5f-23e09bb5d927",
   "metadata": {},
   "outputs": [],
   "source": [
    "conda install -c conda-forge seaborn"
   ]
  },
  {
   "cell_type": "code",
   "execution_count": 2,
   "id": "844b1c62-d48f-4037-9dcc-b1bcf2f0efc4",
   "metadata": {},
   "outputs": [
    {
     "ename": "ModuleNotFoundError",
     "evalue": "No module named 'seaborn'",
     "output_type": "error",
     "traceback": [
      "\u001b[1;31m---------------------------------------------------------------------------\u001b[0m",
      "\u001b[1;31mModuleNotFoundError\u001b[0m                       Traceback (most recent call last)",
      "Cell \u001b[1;32mIn [2], line 2\u001b[0m\n\u001b[0;32m      1\u001b[0m \u001b[38;5;66;03m# conda install -c conda-forge seaborn\u001b[39;00m\n\u001b[1;32m----> 2\u001b[0m \u001b[38;5;28;01mimport\u001b[39;00m \u001b[38;5;21;01mseaborn\u001b[39;00m \u001b[38;5;28;01mas\u001b[39;00m \u001b[38;5;21;01msns\u001b[39;00m\n",
      "\u001b[1;31mModuleNotFoundError\u001b[0m: No module named 'seaborn'"
     ]
    }
   ],
   "source": [
    "# conda install -c conda-forge seaborn\n",
    "import seaborn as sns"
   ]
  },
  {
   "cell_type": "code",
   "execution_count": null,
   "id": "75c5182d-728b-45e8-bfab-14ed0f528ab1",
   "metadata": {},
   "outputs": [],
   "source": [
    "data_path = r\"../data/original/DWD/annual/kl/historical/\"\n",
    "station_file_name = r\"KL_Jahreswerte_Beschreibung_Stationen.txt\"\n",
    "\n",
    "#print(f\"Data Path: {data_path:s}\") "
   ]
  },
  {
   "cell_type": "code",
   "execution_count": null,
   "id": "71fb1bcb-472c-46b3-9148-3aa5eb236178",
   "metadata": {},
   "outputs": [],
   "source": [
    "full_fname = data_path + station_file_name\n",
    "print(full_fname)"
   ]
  },
  {
   "cell_type": "code",
   "execution_count": null,
   "id": "ce6a6898-2a92-4037-8d1f-0935256de7c3",
   "metadata": {},
   "outputs": [],
   "source": [
    "#fh = open(full_fanme)\n",
    "headers = open(full_fname).readline().split()\n",
    "df_stat = pd.read_fwf(\n",
    "    full_fname,\n",
    "    encoding=\"cp1252\",\n",
    "    skiprows=2,\n",
    "    names=headers,\n",
    "    index_col=\"Stations_id\", \n",
    "    parse_dates=[\"von_datum\",\"bis_datum\"])"
   ]
  },
  {
   "cell_type": "code",
   "execution_count": null,
   "id": "96440d63-9b5e-46ae-b97a-a7e623ad898e",
   "metadata": {},
   "outputs": [],
   "source": [
    "idx_NRW    = df_stat[\"Bundesland\"] == \"Nordrhein-Westfalen\"\n",
    "idx_active = df_stat[\"bis_datum\"]  == \"2020-12-31\"\n",
    "idx_early  = df_stat[\"von_datum\"]   < \"1930\""
   ]
  },
  {
   "cell_type": "code",
   "execution_count": null,
   "id": "dbdf9eba-fc10-44ea-b1b1-5c0b3cd79bab",
   "metadata": {},
   "outputs": [],
   "source": [
    "df_stat_short = df_stat[idx_NRW & idx_active & idx_early]"
   ]
  },
  {
   "cell_type": "code",
   "execution_count": null,
   "id": "a77db0ef-4afe-4ae2-a2fd-ecaf48bba12a",
   "metadata": {},
   "outputs": [],
   "source": [
    "df_stat_short"
   ]
  },
  {
   "cell_type": "code",
   "execution_count": null,
   "id": "b5850a39-8cdc-4dc1-8d02-c5c0a243459d",
   "metadata": {},
   "outputs": [],
   "source": [
    "fname_list = os.listdir(data_path)"
   ]
  },
  {
   "cell_type": "code",
   "execution_count": null,
   "id": "19d45996-5468-439b-b481-09f045905c4a",
   "metadata": {
    "tags": []
   },
   "outputs": [],
   "source": [
    "f_dict={}\n",
    "\n",
    "for fname in fname_list:\n",
    "    try:\n",
    "        key=fname.split(\"_\")[2]\n",
    "        f_dict[int(key)]=fname\n",
    "    except:\n",
    "        print(f\"Cannot convert \\'{key:s}\\' to integer\")\n",
    "\n",
    "n=5\n",
    "print(\"Frist {n:d} items of f_dict:\")\n",
    "print({k: f_dict[k] for k in list(f_dict)[:5]})\n"
   ]
  },
  {
   "cell_type": "code",
   "execution_count": null,
   "id": "802cea4d-63b1-4f92-9793-9308b4bfc0d6",
   "metadata": {},
   "outputs": [],
   "source": [
    "zip_list=[]\n",
    "for k in df_stat_short.index:\n",
    "    zip_list.append(data_path + f_dict[k])"
   ]
  },
  {
   "cell_type": "code",
   "execution_count": null,
   "id": "816b4119-b7e4-4f53-bdd8-8125f4dc20c1",
   "metadata": {},
   "outputs": [],
   "source": [
    "# MORE ELEGANT!\n",
    "zip_list = [data_path + f_dict[k] for k in df_stat_short.index]"
   ]
  },
  {
   "cell_type": "code",
   "execution_count": null,
   "id": "d77f5984-34b7-4248-ba18-7ab1d4ec7051",
   "metadata": {},
   "outputs": [],
   "source": [
    "zip_list"
   ]
  },
  {
   "cell_type": "code",
   "execution_count": null,
   "id": "341bd384-14a1-4986-b957-96db9d21b50d",
   "metadata": {},
   "outputs": [],
   "source": [
    "import pandas as pd\n",
    "from zipfile import ZipFile\n",
    "\n",
    "# Very compact code.\n",
    "df = pd.DataFrame()\n",
    "for elt in zip_list:\n",
    "    with ZipFile(elt) as myzip:\n",
    "        \n",
    "        # read the time series data from the file starting with \"produkt\"\n",
    "        prodfilename = [name for name in myzip.namelist() if name.split(\"_\")[0]==\"produkt\"][0] \n",
    "        #print(prodfilename)\n",
    "        \n",
    "        # open just the produkt file within the archive\n",
    "        with myzip.open(prodfilename) as myfile:\n",
    "            dftmp = pd.read_csv(myfile, sep =\";\", parse_dates = [\"MESS_DATUM_BEGINN\", \"MESS_DATUM_ENDE\"], index_col = \"MESS_DATUM_BEGINN\", na_values = [-999.0])\n",
    "            # select the series with the average annual temp (\"JA_TT\"), rename the series with the station_id and make it a df.\n",
    "            s = dftmp[\"JA_TT\"].rename(dftmp[\"STATIONS_ID\"][0]).to_frame()\n",
    "            # outer merge.\n",
    "            df = pd.merge(df, s, left_index=True, right_index=True, how='outer')\n",
    "\n",
    "#df.index.names = [\"year\"]\n",
    "df.index.rename(name = \"year\", inplace = True)\n",
    "df"
   ]
  },
  {
   "cell_type": "code",
   "execution_count": null,
   "id": "d3b5c343-ab6e-4eb3-a076-c6737027108f",
   "metadata": {},
   "outputs": [],
   "source": [
    "# Replace full datetime with year as integer\n",
    "df.set_index(df.index.year, inplace= True) # extract year from index as int"
   ]
  },
  {
   "cell_type": "code",
   "execution_count": null,
   "id": "c3205e1d-03b8-4070-bc58-03897e54e229",
   "metadata": {},
   "outputs": [],
   "source": [
    "df.head()"
   ]
  },
  {
   "cell_type": "code",
   "execution_count": null,
   "id": "aece3212-4c0b-4958-ae51-a4afae58afbe",
   "metadata": {},
   "outputs": [],
   "source": [
    "mean = df[(df.index >= 1961) & (df.index <= 1990)].mean() # mean annual temp between 1961 and 1990\n",
    "mean"
   ]
  },
  {
   "cell_type": "code",
   "execution_count": null,
   "id": "20aaf7db-851f-4434-ba8f-f8db764b5f3d",
   "metadata": {},
   "outputs": [],
   "source": [
    "df_temp_diff = (df - mean)"
   ]
  },
  {
   "cell_type": "code",
   "execution_count": null,
   "id": "c7ab66bc-da37-4353-a461-855d05855027",
   "metadata": {},
   "outputs": [],
   "source": [
    "df_temp_diff"
   ]
  },
  {
   "cell_type": "code",
   "execution_count": null,
   "id": "d02fefec-14f7-4d89-a59d-b6afad807a1c",
   "metadata": {},
   "outputs": [],
   "source": [
    "import seaborn as sns\n",
    "import matplotlib.pyplot as plt\n",
    "# %matplotlib inline"
   ]
  },
  {
   "cell_type": "code",
   "execution_count": null,
   "id": "1149d651-d8ff-4321-bc16-8f3ce295465d",
   "metadata": {
    "tags": []
   },
   "outputs": [],
   "source": [
    "# plot\n",
    "sns.set_style('ticks')\n",
    "fig1, ax1 = plt.subplots(dpi = 300, figsize = (30,10))\n",
    "\n",
    "# sns.heatmap(df_temp_diff.T, cmap='coolwarm', vmin = -2, vmax = 2, ax = ax4)\n",
    "sns.heatmap(df.T, cmap='coolwarm', ax = ax1)\n",
    "\n",
    "fig1.savefig('NRW_Annual_Temp_Stripes_01.png')\n"
   ]
  },
  {
   "cell_type": "code",
   "execution_count": null,
   "id": "537c35fa-6f38-423f-9476-61a8bc1f7bb3",
   "metadata": {},
   "outputs": [],
   "source": [
    "# plot\n",
    "sns.set_style('ticks')\n",
    "fig2, ax2 = plt.subplots(dpi = 150, figsize = (12,4))\n",
    "\n",
    "#sns.heatmap(df_tdiff, cmap='coolwarm', annot=True, vmin = -2, vmax = 2, ax = ax3)\n",
    "sns.heatmap(df[df.index >= 1930].T, cmap='coolwarm', ax = ax2)\n",
    "#ax4.set_xticklabels(df.index.strftime('%Y'))\n",
    "\n",
    "fig2.savefig('NRW_Annual_Temp_Stripes_02.png')"
   ]
  },
  {
   "cell_type": "code",
   "execution_count": null,
   "id": "63a42bce-8478-44f2-ae93-4690e1882208",
   "metadata": {},
   "outputs": [],
   "source": [
    "# plot\n",
    "sns.set_style('ticks')\n",
    "fig3, ax3 = plt.subplots(dpi = 150, figsize = (12,4))\n",
    "\n",
    "#sns.heatmap(df_tdiff, cmap='coolwarm', annot=True, vmin = -2, vmax = 2, ax = ax3)\n",
    "sns.heatmap(df_temp_diff[df_temp_diff.index >= 1930].T, cmap='coolwarm', vmin = -2, vmax = 2, ax = ax3)\n",
    "#ax4.set_xticklabels(df.index.strftime('%Y'))\n",
    "\n",
    "fig3.savefig('NRW_Annual_Temp_Diff_Stripes_02.png')"
   ]
  },
  {
   "cell_type": "code",
   "execution_count": null,
   "id": "9590b6b1-a4a8-48f0-9d2c-6375f07a6dd0",
   "metadata": {},
   "outputs": [],
   "source": [
    "df_stat_short[\"Stationsname\"]"
   ]
  },
  {
   "cell_type": "code",
   "execution_count": null,
   "id": "e232639d-ed4a-4544-a81e-51c5b16947a8",
   "metadata": {},
   "outputs": [],
   "source": [
    "df_stat_short[\"von_datum\"]"
   ]
  },
  {
   "cell_type": "code",
   "execution_count": null,
   "id": "eb26a27c-3292-49fa-a3c3-abf48311d749",
   "metadata": {
    "tags": []
   },
   "outputs": [],
   "source": [
    "df.head()"
   ]
  },
  {
   "cell_type": "code",
   "execution_count": null,
   "id": "d7837d21-a5fc-4e09-98c7-76622da853de",
   "metadata": {},
   "outputs": [],
   "source": []
  }
 ],
 "metadata": {
  "kernelspec": {
   "display_name": "Python 3 (ipykernel)",
   "language": "python",
   "name": "python3"
  },
  "language_info": {
   "codemirror_mode": {
    "name": "ipython",
    "version": 3
   },
   "file_extension": ".py",
   "mimetype": "text/x-python",
   "name": "python",
   "nbconvert_exporter": "python",
   "pygments_lexer": "ipython3",
   "version": "3.10.6"
  }
 },
 "nbformat": 4,
 "nbformat_minor": 5
}
