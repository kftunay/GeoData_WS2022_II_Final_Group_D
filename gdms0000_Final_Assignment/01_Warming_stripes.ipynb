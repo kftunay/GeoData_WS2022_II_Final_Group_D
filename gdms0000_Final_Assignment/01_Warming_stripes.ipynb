{
 "cells": [
  {
   "cell_type": "code",
   "execution_count": 4,
   "id": "7d43879c-758e-4b37-b93b-392750c4d201",
   "metadata": {},
   "outputs": [],
   "source": [
    "import geopandas\n",
    "import pandas as pd\n",
    "import os"
   ]
  },
  {
   "cell_type": "code",
   "execution_count": 5,
   "id": "595c1b43-3a80-42c4-ab02-8bc823e8899d",
   "metadata": {},
   "outputs": [],
   "source": [
    "# import geopandas got an error, and resolved using opening the jupyter notebook with anaconda navigator instead\n",
    "# of powershell prompt"
   ]
  },
  {
   "cell_type": "code",
   "execution_count": 6,
   "id": "aa494e32",
   "metadata": {},
   "outputs": [
    {
     "name": "stdout",
     "output_type": "stream",
     "text": [
      "Subdirectory on FTP Server: /annual/kl/historical/\n"
     ]
    }
   ],
   "source": [
    "# The topic of interest\n",
    "topic_dir = \"/annual/kl/historical/\"\n",
    "print(\"Subdirectory on FTP Server:\", topic_dir)"
   ]
  },
  {
   "cell_type": "code",
   "execution_count": 7,
   "id": "22322bf2",
   "metadata": {},
   "outputs": [],
   "source": [
    "#local_ftp_dir         = \"../data/original/DWD/\"      # Local directory to store local ftp data copies, the local data source or input data. \n",
    "local_ftp_dir         = \"data/original/DWD/\"      # Local directory to store local ftp data copies, the local data source or input data. \n",
    "local_ftp_station_dir = local_ftp_dir + topic_dir # Local directory where local station info is located\n",
    "local_ftp_ts_dir      = local_ftp_dir + topic_dir # Local directory where time series downloaded from ftp are located\n",
    "\n",
    "#local_generated_dir   = \"../data/generated/DWD/\" # The generated of derived data in contrast to local_ftp_dir\n",
    "local_generated_dir   = \"data/generated/DWD/\" # The generated of derived data in contrast to local_ftp_dir\n",
    "local_station_dir     = local_generated_dir + topic_dir # Derived station data, i.e. the CSV file\n",
    "local_ts_merged_dir   = local_generated_dir + topic_dir # Parallel merged time series, wide data frame with one TS per column\n",
    "local_ts_appended_dir = local_generated_dir + topic_dir # Serially appended time series, long data frame for QGIS TimeManager Plugin"
   ]
  },
  {
   "cell_type": "code",
   "execution_count": 8,
   "id": "f7f2ed8e",
   "metadata": {},
   "outputs": [],
   "source": [
    "#import os\n",
    "os.makedirs(local_ftp_dir,exist_ok = True) # it does not complain if the dir already exists.\n",
    "os.makedirs(local_ftp_station_dir,exist_ok = True)\n",
    "os.makedirs(local_ftp_ts_dir,exist_ok = True)\n",
    "\n",
    "os.makedirs(local_generated_dir,exist_ok = True)\n",
    "os.makedirs(local_station_dir,exist_ok = True)\n",
    "os.makedirs(local_ts_merged_dir,exist_ok = True)\n",
    "os.makedirs(local_ts_appended_dir,exist_ok = True)"
   ]
  },
  {
   "cell_type": "code",
   "execution_count": 9,
   "id": "47bdc013",
   "metadata": {},
   "outputs": [
    {
     "name": "stdout",
     "output_type": "stream",
     "text": [
      "data/original/DWD/\n",
      "data/original/DWD//annual/kl/historical/\n",
      "data/original/DWD//annual/kl/historical/\n",
      "\n",
      "data/generated/DWD/\n",
      "data/generated/DWD//annual/kl/historical/\n",
      "data/generated/DWD//annual/kl/historical/\n",
      "data/generated/DWD//annual/kl/historical/\n"
     ]
    }
   ],
   "source": [
    "# check if directories are rightly generated\n",
    "print(local_ftp_dir)\n",
    "print(local_ftp_station_dir)\n",
    "print(local_ftp_ts_dir)\n",
    "print()\n",
    "print(local_generated_dir)\n",
    "print(local_station_dir)\n",
    "print(local_ts_merged_dir)\n",
    "print(local_ts_appended_dir)"
   ]
  },
  {
   "cell_type": "markdown",
   "id": "02f72f28",
   "metadata": {},
   "source": [
    "### FTP Connection\n",
    "\n",
    "## Connection parameters"
   ]
  },
  {
   "cell_type": "code",
   "execution_count": 10,
   "id": "ea900c0f",
   "metadata": {},
   "outputs": [],
   "source": [
    "server = \"opendata.dwd.de\"\n",
    "user   = \"anonymous\"\n",
    "passwd = \"\""
   ]
  },
  {
   "cell_type": "code",
   "execution_count": 11,
   "id": "f4f257a6",
   "metadata": {},
   "outputs": [
    {
     "name": "stdout",
     "output_type": "stream",
     "text": [
      "Absolute FTP directory path with data of concern: /climate_environment/CDC/observations_germany/climate//annual/kl/historical/\n"
     ]
    }
   ],
   "source": [
    "# This is the search pattern common to ALL station description file names \n",
    "station_desc_pattern = \"_Beschreibung_Stationen.txt\"\n",
    "\n",
    "# Below this directory tree node all climate data are stored.\n",
    "ftp_climate_data_dir = \"/climate_environment/CDC/observations_germany/climate/\"\n",
    "\n",
    "# The absolute ftp directory with the data (topic) of concern\n",
    "ftp_dir =  ftp_climate_data_dir + topic_dir\n",
    "print(\"Absolute FTP directory path with data of concern:\", ftp_dir)"
   ]
  },
  {
   "cell_type": "markdown",
   "id": "53e23c9c",
   "metadata": {},
   "source": [
    "### FTP Connect"
   ]
  },
  {
   "cell_type": "code",
   "execution_count": 12,
   "id": "2f75d833",
   "metadata": {},
   "outputs": [
    {
     "name": "stdout",
     "output_type": "stream",
     "text": [
      "230 Login successful.\n"
     ]
    }
   ],
   "source": [
    "import ftplib\n",
    "ftp = ftplib.FTP(server)\n",
    "res = ftp.login(user=user, passwd = passwd)\n",
    "print(res)"
   ]
  },
  {
   "cell_type": "code",
   "execution_count": 13,
   "id": "972e642d",
   "metadata": {},
   "outputs": [],
   "source": [
    "ret = ftp.cwd(\".\")"
   ]
  },
  {
   "cell_type": "code",
   "execution_count": 14,
   "id": "0863de7e",
   "metadata": {},
   "outputs": [],
   "source": [
    "#ftp.quit()"
   ]
  },
  {
   "cell_type": "markdown",
   "id": "4ae3baf3",
   "metadata": {},
   "source": [
    "### FTP Grab File Function"
   ]
  },
  {
   "cell_type": "code",
   "execution_count": 15,
   "id": "b2f147a0",
   "metadata": {},
   "outputs": [],
   "source": [
    "def grabFile(ftpfullname,localfullname):\n",
    "    try:\n",
    "        ret = ftp.cwd(\".\") # A dummy action to check the connection and to provoke an exception if necessary.\n",
    "        localfile = open(localfullname, 'wb')\n",
    "        ftp.retrbinary('RETR ' + ftpfullname, localfile.write, 1024)\n",
    "        localfile.close()\n",
    "    \n",
    "    except ftplib.error_perm:\n",
    "        print(\"FTP ERROR. Operation not permitted. File not found?\")\n",
    "\n",
    "    except ftplib.error_temp:\n",
    "        print(\"FTP ERROR. Timeout.\")\n",
    "\n",
    "    except ConnectionAbortedError:\n",
    "        print(\"FTP ERROR. Connection aborted.\")"
   ]
  },
  {
   "cell_type": "markdown",
   "id": "90a77292",
   "metadata": {},
   "source": [
    "## Generate Pandas Dataframe from FTP Directory Listing"
   ]
  },
  {
   "cell_type": "code",
   "execution_count": 16,
   "id": "196ca0de",
   "metadata": {},
   "outputs": [],
   "source": [
    "def gen_df_from_ftp_dir_listing(ftp, ftpdir):\n",
    "    lines = []\n",
    "    flist = []\n",
    "    try:    \n",
    "        res = ftp.retrlines(\"LIST \"+ftpdir, lines.append)\n",
    "    except:\n",
    "        print(\"Error: ftp.retrlines() failed. ftp timeout? Reconnect!\")\n",
    "        return\n",
    "        \n",
    "    if len(lines) == 0:\n",
    "        print(\"Error: ftp dir is empty\")\n",
    "        return\n",
    "    \n",
    "    for line in lines:\n",
    "#        print(line)\n",
    "        [ftype, fsize, fname] = [line[0:1], int(line[31:42]), line[56:]]\n",
    "#        itemlist = [line[0:1], int(line[31:42]), line[56:]]\n",
    "#        flist.append(itemlist)\n",
    "        \n",
    "        fext = os.path.splitext(fname)[-1]\n",
    "        \n",
    "        if fext == \".zip\":\n",
    "            station_id = int(fname.split(\"_\")[2])\n",
    "        else:\n",
    "            station_id = -1 \n",
    "        \n",
    "        flist.append([station_id, fname, fext, fsize, ftype])\n",
    "        \n",
    "        \n",
    "\n",
    "    df_ftpdir = pd.DataFrame(flist,columns=[\"station_id\", \"name\", \"ext\", \"size\", \"type\"])\n",
    "    return(df_ftpdir)"
   ]
  },
  {
   "cell_type": "code",
   "execution_count": 17,
   "id": "ecb8052e",
   "metadata": {},
   "outputs": [],
   "source": [
    "df_ftpdir = gen_df_from_ftp_dir_listing(ftp, ftp_dir)"
   ]
  },
  {
   "cell_type": "code",
   "execution_count": 18,
   "id": "5676004f",
   "metadata": {},
   "outputs": [
    {
     "data": {
      "text/html": [
       "<div>\n",
       "<style scoped>\n",
       "    .dataframe tbody tr th:only-of-type {\n",
       "        vertical-align: middle;\n",
       "    }\n",
       "\n",
       "    .dataframe tbody tr th {\n",
       "        vertical-align: top;\n",
       "    }\n",
       "\n",
       "    .dataframe thead th {\n",
       "        text-align: right;\n",
       "    }\n",
       "</style>\n",
       "<table border=\"1\" class=\"dataframe\">\n",
       "  <thead>\n",
       "    <tr style=\"text-align: right;\">\n",
       "      <th></th>\n",
       "      <th>station_id</th>\n",
       "      <th>name</th>\n",
       "      <th>ext</th>\n",
       "      <th>size</th>\n",
       "      <th>type</th>\n",
       "    </tr>\n",
       "  </thead>\n",
       "  <tbody>\n",
       "    <tr>\n",
       "      <th>0</th>\n",
       "      <td>-1</td>\n",
       "      <td>KL_Jahreswerte_Beschreibung_Stationen.txt</td>\n",
       "      <td>.txt</td>\n",
       "      <td>240187</td>\n",
       "      <td>-</td>\n",
       "    </tr>\n",
       "    <tr>\n",
       "      <th>1</th>\n",
       "      <td>1</td>\n",
       "      <td>jahreswerte_KL_00001_19310101_19860630_hist.zip</td>\n",
       "      <td>.zip</td>\n",
       "      <td>12989</td>\n",
       "      <td>-</td>\n",
       "    </tr>\n",
       "    <tr>\n",
       "      <th>2</th>\n",
       "      <td>3</td>\n",
       "      <td>jahreswerte_KL_00003_18510101_20110331_hist.zip</td>\n",
       "      <td>.zip</td>\n",
       "      <td>20125</td>\n",
       "      <td>-</td>\n",
       "    </tr>\n",
       "    <tr>\n",
       "      <th>3</th>\n",
       "      <td>44</td>\n",
       "      <td>jahreswerte_KL_00044_19710301_20211231_hist.zip</td>\n",
       "      <td>.zip</td>\n",
       "      <td>16176</td>\n",
       "      <td>-</td>\n",
       "    </tr>\n",
       "    <tr>\n",
       "      <th>4</th>\n",
       "      <td>52</td>\n",
       "      <td>jahreswerte_KL_00052_19730101_20011231_hist.zip</td>\n",
       "      <td>.zip</td>\n",
       "      <td>13759</td>\n",
       "      <td>-</td>\n",
       "    </tr>\n",
       "    <tr>\n",
       "      <th>5</th>\n",
       "      <td>61</td>\n",
       "      <td>jahreswerte_KL_00061_19750701_19780831_hist.zip</td>\n",
       "      <td>.zip</td>\n",
       "      <td>9130</td>\n",
       "      <td>-</td>\n",
       "    </tr>\n",
       "    <tr>\n",
       "      <th>6</th>\n",
       "      <td>70</td>\n",
       "      <td>jahreswerte_KL_00070_19730601_19860930_hist.zip</td>\n",
       "      <td>.zip</td>\n",
       "      <td>9680</td>\n",
       "      <td>-</td>\n",
       "    </tr>\n",
       "    <tr>\n",
       "      <th>7</th>\n",
       "      <td>71</td>\n",
       "      <td>jahreswerte_KL_00071_19861101_20191231_hist.zip</td>\n",
       "      <td>.zip</td>\n",
       "      <td>14916</td>\n",
       "      <td>-</td>\n",
       "    </tr>\n",
       "    <tr>\n",
       "      <th>8</th>\n",
       "      <td>72</td>\n",
       "      <td>jahreswerte_KL_00072_19781001_19950531_hist.zip</td>\n",
       "      <td>.zip</td>\n",
       "      <td>12892</td>\n",
       "      <td>-</td>\n",
       "    </tr>\n",
       "    <tr>\n",
       "      <th>9</th>\n",
       "      <td>73</td>\n",
       "      <td>jahreswerte_KL_00073_19530101_20211231_hist.zip</td>\n",
       "      <td>.zip</td>\n",
       "      <td>17379</td>\n",
       "      <td>-</td>\n",
       "    </tr>\n",
       "  </tbody>\n",
       "</table>\n",
       "</div>"
      ],
      "text/plain": [
       "   station_id                                             name   ext    size  \\\n",
       "0          -1        KL_Jahreswerte_Beschreibung_Stationen.txt  .txt  240187   \n",
       "1           1  jahreswerte_KL_00001_19310101_19860630_hist.zip  .zip   12989   \n",
       "2           3  jahreswerte_KL_00003_18510101_20110331_hist.zip  .zip   20125   \n",
       "3          44  jahreswerte_KL_00044_19710301_20211231_hist.zip  .zip   16176   \n",
       "4          52  jahreswerte_KL_00052_19730101_20011231_hist.zip  .zip   13759   \n",
       "5          61  jahreswerte_KL_00061_19750701_19780831_hist.zip  .zip    9130   \n",
       "6          70  jahreswerte_KL_00070_19730601_19860930_hist.zip  .zip    9680   \n",
       "7          71  jahreswerte_KL_00071_19861101_20191231_hist.zip  .zip   14916   \n",
       "8          72  jahreswerte_KL_00072_19781001_19950531_hist.zip  .zip   12892   \n",
       "9          73  jahreswerte_KL_00073_19530101_20211231_hist.zip  .zip   17379   \n",
       "\n",
       "  type  \n",
       "0    -  \n",
       "1    -  \n",
       "2    -  \n",
       "3    -  \n",
       "4    -  \n",
       "5    -  \n",
       "6    -  \n",
       "7    -  \n",
       "8    -  \n",
       "9    -  "
      ]
     },
     "execution_count": 18,
     "metadata": {},
     "output_type": "execute_result"
    }
   ],
   "source": [
    "df_ftpdir.head(10)"
   ]
  },
  {
   "cell_type": "markdown",
   "id": "8706c0d9",
   "metadata": {},
   "source": [
    "Dataframe with TS Zip Files"
   ]
  },
  {
   "cell_type": "code",
   "execution_count": 19,
   "id": "d27df495",
   "metadata": {},
   "outputs": [
    {
     "data": {
      "text/html": [
       "<div>\n",
       "<style scoped>\n",
       "    .dataframe tbody tr th:only-of-type {\n",
       "        vertical-align: middle;\n",
       "    }\n",
       "\n",
       "    .dataframe tbody tr th {\n",
       "        vertical-align: top;\n",
       "    }\n",
       "\n",
       "    .dataframe thead th {\n",
       "        text-align: right;\n",
       "    }\n",
       "</style>\n",
       "<table border=\"1\" class=\"dataframe\">\n",
       "  <thead>\n",
       "    <tr style=\"text-align: right;\">\n",
       "      <th></th>\n",
       "      <th>name</th>\n",
       "      <th>ext</th>\n",
       "      <th>size</th>\n",
       "      <th>type</th>\n",
       "    </tr>\n",
       "    <tr>\n",
       "      <th>station_id</th>\n",
       "      <th></th>\n",
       "      <th></th>\n",
       "      <th></th>\n",
       "      <th></th>\n",
       "    </tr>\n",
       "  </thead>\n",
       "  <tbody>\n",
       "    <tr>\n",
       "      <th>1</th>\n",
       "      <td>jahreswerte_KL_00001_19310101_19860630_hist.zip</td>\n",
       "      <td>.zip</td>\n",
       "      <td>12989</td>\n",
       "      <td>-</td>\n",
       "    </tr>\n",
       "    <tr>\n",
       "      <th>3</th>\n",
       "      <td>jahreswerte_KL_00003_18510101_20110331_hist.zip</td>\n",
       "      <td>.zip</td>\n",
       "      <td>20125</td>\n",
       "      <td>-</td>\n",
       "    </tr>\n",
       "    <tr>\n",
       "      <th>44</th>\n",
       "      <td>jahreswerte_KL_00044_19710301_20211231_hist.zip</td>\n",
       "      <td>.zip</td>\n",
       "      <td>16176</td>\n",
       "      <td>-</td>\n",
       "    </tr>\n",
       "    <tr>\n",
       "      <th>52</th>\n",
       "      <td>jahreswerte_KL_00052_19730101_20011231_hist.zip</td>\n",
       "      <td>.zip</td>\n",
       "      <td>13759</td>\n",
       "      <td>-</td>\n",
       "    </tr>\n",
       "    <tr>\n",
       "      <th>61</th>\n",
       "      <td>jahreswerte_KL_00061_19750701_19780831_hist.zip</td>\n",
       "      <td>.zip</td>\n",
       "      <td>9130</td>\n",
       "      <td>-</td>\n",
       "    </tr>\n",
       "    <tr>\n",
       "      <th>70</th>\n",
       "      <td>jahreswerte_KL_00070_19730601_19860930_hist.zip</td>\n",
       "      <td>.zip</td>\n",
       "      <td>9680</td>\n",
       "      <td>-</td>\n",
       "    </tr>\n",
       "    <tr>\n",
       "      <th>71</th>\n",
       "      <td>jahreswerte_KL_00071_19861101_20191231_hist.zip</td>\n",
       "      <td>.zip</td>\n",
       "      <td>14916</td>\n",
       "      <td>-</td>\n",
       "    </tr>\n",
       "    <tr>\n",
       "      <th>72</th>\n",
       "      <td>jahreswerte_KL_00072_19781001_19950531_hist.zip</td>\n",
       "      <td>.zip</td>\n",
       "      <td>12892</td>\n",
       "      <td>-</td>\n",
       "    </tr>\n",
       "    <tr>\n",
       "      <th>73</th>\n",
       "      <td>jahreswerte_KL_00073_19530101_20211231_hist.zip</td>\n",
       "      <td>.zip</td>\n",
       "      <td>17379</td>\n",
       "      <td>-</td>\n",
       "    </tr>\n",
       "    <tr>\n",
       "      <th>78</th>\n",
       "      <td>jahreswerte_KL_00078_19610101_20211231_hist.zip</td>\n",
       "      <td>.zip</td>\n",
       "      <td>13962</td>\n",
       "      <td>-</td>\n",
       "    </tr>\n",
       "  </tbody>\n",
       "</table>\n",
       "</div>"
      ],
      "text/plain": [
       "                                                       name   ext   size type\n",
       "station_id                                                                   \n",
       "1           jahreswerte_KL_00001_19310101_19860630_hist.zip  .zip  12989    -\n",
       "3           jahreswerte_KL_00003_18510101_20110331_hist.zip  .zip  20125    -\n",
       "44          jahreswerte_KL_00044_19710301_20211231_hist.zip  .zip  16176    -\n",
       "52          jahreswerte_KL_00052_19730101_20011231_hist.zip  .zip  13759    -\n",
       "61          jahreswerte_KL_00061_19750701_19780831_hist.zip  .zip   9130    -\n",
       "70          jahreswerte_KL_00070_19730601_19860930_hist.zip  .zip   9680    -\n",
       "71          jahreswerte_KL_00071_19861101_20191231_hist.zip  .zip  14916    -\n",
       "72          jahreswerte_KL_00072_19781001_19950531_hist.zip  .zip  12892    -\n",
       "73          jahreswerte_KL_00073_19530101_20211231_hist.zip  .zip  17379    -\n",
       "78          jahreswerte_KL_00078_19610101_20211231_hist.zip  .zip  13962    -"
      ]
     },
     "execution_count": 19,
     "metadata": {},
     "output_type": "execute_result"
    }
   ],
   "source": [
    "#df_ftpdir[\"ext\"]==\".zip\"\n",
    "df_zips = df_ftpdir[df_ftpdir[\"ext\"]==\".zip\"]\n",
    "df_zips.set_index(\"station_id\", inplace = True)\n",
    "df_zips.head(10)"
   ]
  },
  {
   "cell_type": "markdown",
   "id": "d48d1de1",
   "metadata": {},
   "source": [
    "Download the Station Description File"
   ]
  },
  {
   "cell_type": "code",
   "execution_count": 20,
   "id": "58acd426",
   "metadata": {},
   "outputs": [
    {
     "name": "stdout",
     "output_type": "stream",
     "text": [
      "KL_Jahreswerte_Beschreibung_Stationen.txt\n"
     ]
    }
   ],
   "source": [
    "station_fname = df_ftpdir[df_ftpdir['name'].str.contains(station_desc_pattern)][\"name\"].values[0]\n",
    "print(station_fname)\n",
    "\n",
    "# ALternative\n",
    "#station_fname2 = df_ftpdir[df_ftpdir[\"name\"].str.match(\"^.*Beschreibung_Stationen.*txt$\")][\"name\"].values[0]\n",
    "#print(station_fname2)"
   ]
  },
  {
   "cell_type": "code",
   "execution_count": 21,
   "id": "a750085e",
   "metadata": {},
   "outputs": [
    {
     "name": "stdout",
     "output_type": "stream",
     "text": [
      "grabFile: \n",
      "From: /climate_environment/CDC/observations_germany/climate//annual/kl/historical/KL_Jahreswerte_Beschreibung_Stationen.txt\n",
      "To:   data/original/DWD//annual/kl/historical/KL_Jahreswerte_Beschreibung_Stationen.txt\n",
      "FTP ERROR. Timeout.\n"
     ]
    }
   ],
   "source": [
    "print(\"grabFile: \")\n",
    "print(\"From: \" + ftp_dir + station_fname)\n",
    "print(\"To:   \" + local_ftp_station_dir + station_fname)\n",
    "grabFile(ftp_dir + station_fname, local_ftp_station_dir + station_fname)"
   ]
  },
  {
   "cell_type": "code",
   "execution_count": null,
   "id": "25bbae67",
   "metadata": {},
   "outputs": [],
   "source": []
  }
 ],
 "metadata": {
  "kernelspec": {
   "display_name": "Python 3 (ipykernel)",
   "language": "python",
   "name": "python3"
  },
  "language_info": {
   "codemirror_mode": {
    "name": "ipython",
    "version": 3
   },
   "file_extension": ".py",
   "mimetype": "text/x-python",
   "name": "python",
   "nbconvert_exporter": "python",
   "pygments_lexer": "ipython3",
   "version": "3.10.6"
  }
 },
 "nbformat": 4,
 "nbformat_minor": 5
}
